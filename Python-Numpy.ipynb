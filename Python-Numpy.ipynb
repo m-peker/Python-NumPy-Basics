{
 "cells": [
  {
   "cell_type": "markdown",
   "metadata": {},
   "source": [
    "# Numpy"
   ]
  },
  {
   "cell_type": "code",
   "execution_count": null,
   "metadata": {},
   "outputs": [],
   "source": [
    "'''Numpy is the core library for scientific computing in Python. \n",
    "It provides a high-performance multidimensional array object, and tools for working with these arrays. '''"
   ]
  },
  {
   "cell_type": "markdown",
   "metadata": {},
   "source": [
    "# Numpy Cheat Sheet"
   ]
  },
  {
   "attachments": {},
   "cell_type": "markdown",
   "metadata": {},
   "source": [
    "[Numpy Cheat Sheet - One Page](https://github.com/m-peker/Python-NumPy-Basics/blob/master/Numpy_Python_Cheat_Sheet.pdf)"
   ]
  },
  {
   "cell_type": "markdown",
   "metadata": {},
   "source": [
    "# Importing"
   ]
  },
  {
   "cell_type": "code",
   "execution_count": 1,
   "metadata": {},
   "outputs": [],
   "source": [
    "import numpy as np"
   ]
  },
  {
   "cell_type": "markdown",
   "metadata": {},
   "source": [
    "# Numpy Basics"
   ]
  },
  {
   "cell_type": "code",
   "execution_count": 17,
   "metadata": {},
   "outputs": [
    {
     "name": "stdout",
     "output_type": "stream",
     "text": [
      "(15,)\n",
      "shape:  (3, 5)\n",
      "dimension:  2\n",
      "data type:  int32\n",
      "size:  15\n",
      "type:  <class 'numpy.ndarray'>\n",
      "[[5. 0. 0. 0.]\n",
      " [0. 0. 0. 0.]\n",
      " [0. 0. 0. 0.]]\n",
      "[10 15 20 25 30 35 40 45]\n",
      "[10.         12.10526316 14.21052632 16.31578947 18.42105263 20.52631579\n",
      " 22.63157895 24.73684211 26.84210526 28.94736842 31.05263158 33.15789474\n",
      " 35.26315789 37.36842105 39.47368421 41.57894737 43.68421053 45.78947368\n",
      " 47.89473684 50.        ]\n",
      "--------------------------------------\n",
      "Data-type of the array's elements.\n",
      "\n",
      "Parameters\n",
      "----------\n",
      "None\n",
      "\n",
      "Returns\n",
      "-------\n",
      "d : numpy dtype object\n",
      "\n",
      "See Also\n",
      "--------\n",
      "numpy.dtype\n",
      "\n",
      "Examples\n",
      "--------\n",
      ">>> x\n",
      "array([[0, 1],\n",
      "       [2, 3]])\n",
      ">>> x.dtype\n",
      "dtype('int32')\n",
      ">>> type(x.dtype)\n",
      "<type 'numpy.dtype'>\n"
     ]
    }
   ],
   "source": [
    "array = np.array([1,2,3,4,5,6,7,8,9,10,11,12,13,14,15])  # 1*15 vector\n",
    "\n",
    "print(array.shape) # Array dimensions\n",
    "\n",
    "a = array.reshape(3,5) # Reshape, but don’t change data\n",
    "print(\"shape: \",a.shape)\n",
    "print(\"dimension: \", a.ndim) # Number of array dimensions\n",
    "print(\"data type: \",a.dtype.name) # Data type of array elements\n",
    "print(\"size: \",a.size) # Number of array elements\n",
    "print(\"type: \",type(a))\n",
    "\n",
    "array1 = np.array([[1,2,3,4],[5,6,7,8],[9,8,7,5]])\n",
    "zeros = np.zeros((3,4)) # Create an array of zeros\n",
    "\n",
    "zeros[0,0] = 5\n",
    "print(zeros)\n",
    "\n",
    "np.ones((3,4)) # Create an array of ones\n",
    "\n",
    "np.empty((2,3)) # Create an empty array\n",
    "\n",
    "a = np.arange(10,50,5) # Create an array of evenly   spaced values (step value)\n",
    "print(a)\n",
    "\n",
    "a = np.linspace(10,50,20) # Create an array of evenly   spaced values (number of samples)\n",
    "print(a)\n",
    "\n",
    "print(\"--------------------------------------\")\n",
    "# Asking for help\n",
    "np.info(np.ndarray.dtype)"
   ]
  },
  {
   "cell_type": "markdown",
   "metadata": {},
   "source": [
    "# Numpy Basic Operations"
   ]
  },
  {
   "cell_type": "code",
   "execution_count": 15,
   "metadata": {},
   "outputs": [
    {
     "name": "stdout",
     "output_type": "stream",
     "text": [
      "[5 7 9]\n",
      "[-3 -3 -3]\n",
      "[0.84147098 0.90929743 0.14112001]\n",
      "[1.         1.41421356 1.73205081]\n",
      "[1 4 9]\n",
      "[2 4 6]\n",
      "[[ 1  4  9]\n",
      " [16 25 36]]\n",
      "[[  2.71828183   7.3890561   20.08553692]\n",
      " [ 54.59815003 148.4131591  403.42879349]]\n",
      "[[0.         0.69314718 1.09861229]\n",
      " [1.38629436 1.60943791 1.79175947]]\n",
      "---------------------------------------------\n",
      "12.064518151526936\n",
      "0.9942886453470896\n",
      "0.04331169219877329\n",
      "[1.45513768 2.5552267  2.49008022 2.9697473  2.59432624]\n",
      "[2.63022154 2.45264171 1.97606707 2.44767641 2.55791142]\n",
      "0.48258072606107744\n",
      "1.707825127659933\n",
      "---------------------------------------------\n"
     ]
    }
   ],
   "source": [
    "a = np.array([1,2,3])\n",
    "b = np.array([4,5,6])\n",
    "\n",
    "# Arithmetic Operations\n",
    "\n",
    "print(a+b) # Addition\n",
    "print(a-b) # Subtraction\n",
    "print(np.sin(a)) # Print sines of an array\n",
    "print(np.sqrt(a)) # Square root\n",
    "print(np.square(a)) # a**2\n",
    "print(np.add(a,a)) # Addition\n",
    "\n",
    "a = np.array([[1,2,3],[4,5,6]])\n",
    "b = np.array([[1,2,3],[4,5,6]])\n",
    "\n",
    "# element wise prodcut\n",
    "print(a*b)\n",
    "\n",
    "# matrix prodcut\n",
    "a.dot(b.T)\n",
    "\n",
    "print(np.exp(a)) # Exponentiation\n",
    "print(np.log(a)) # Element-wise natural logarithm \n",
    "a = np.random.random((5,5))\n",
    "\n",
    "print(\"---------------------------------------------\")\n",
    "# Aggregate Functions\n",
    "\n",
    "print(a.sum()) # Array-wise sum\n",
    "print(a.max()) # Maximum value of an array row\n",
    "print(a.min()) # Array-wise minimum value \n",
    "print(a.sum(axis=0)) # Sum of an array row\n",
    "print(a.sum(axis=1)) # Sum of an array column\n",
    "print(a.mean()) # Mean\n",
    "print(np.std(b)) # Standard deviation\n",
    "print(\"---------------------------------------------\")"
   ]
  },
  {
   "cell_type": "markdown",
   "metadata": {},
   "source": [
    "# Indexing and Slicing"
   ]
  },
  {
   "cell_type": "code",
   "execution_count": 24,
   "metadata": {},
   "outputs": [
    {
     "name": "stdout",
     "output_type": "stream",
     "text": [
      "Array:  [1 2 3 4 5 6 7]\n",
      "1\n",
      "[1 2 3 4]\n",
      "[7 6 5 4 3 2 1]\n",
      "--------------------------------------------------\n",
      "Array 1:  [[ 1  2  3  4  5]\n",
      " [ 6  7  8  9 10]]\n",
      "7\n",
      "[2 7]\n",
      "[7 8 9]\n",
      "[ 6  7  8  9 10]\n",
      "[ 5 10]\n"
     ]
    }
   ],
   "source": [
    "import numpy as np\n",
    "array = np.array([1,2,3,4,5,6,7])   #  vector dimension = 1\n",
    "print(\"Array: \",array)\n",
    "print(array[0]) # Select the element at the zero index\n",
    "\n",
    "print(array[0:4]) # Select items at index 0, 1, 2 and 3\n",
    "\n",
    "reverse_array = array[::-1] # Reversed array\n",
    "print(reverse_array)\n",
    "\n",
    "print(\"--------------------------------------------------\")\n",
    "\n",
    "array1 = np.array([[1,2,3,4,5],[6,7,8,9,10]])\n",
    "print(\"Array 1: \", array1)\n",
    "print(array1[1,1]) # Select items at row 1 in column 1\n",
    "print(array1[:,1])\n",
    "print(array1[1,1:4]) \n",
    "print(array1[-1,:])\n",
    "print(array1[:,-1])"
   ]
  },
  {
   "cell_type": "markdown",
   "metadata": {},
   "source": [
    "# Shape Manipulation"
   ]
  },
  {
   "cell_type": "code",
   "execution_count": 50,
   "metadata": {},
   "outputs": [
    {
     "name": "stdout",
     "output_type": "stream",
     "text": [
      "Array: \n",
      " [[1 2 3]\n",
      " [4 5 6]\n",
      " [7 8 9]]\n",
      "Transpose of array :\n",
      " [[1 4 7]\n",
      " [2 5 8]\n",
      " [3 6 9]]\n",
      "Veritical Combining: \n",
      " [[ 1  2]\n",
      " [ 3  4]\n",
      " [-1 -2]\n",
      " [-3 -4]]\n",
      "Horizontal Combining: \n",
      " [[ 1  2 -1 -2]\n",
      " [ 3  4 -3 -4]]\n"
     ]
    },
    {
     "data": {
      "text/plain": [
       "array([[ 1,  2, -1, -2],\n",
       "       [ 3,  4, -3, -4]])"
      ]
     },
     "execution_count": 50,
     "metadata": {},
     "output_type": "execute_result"
    }
   ],
   "source": [
    "array = np.array([[1,2,3],[4,5,6],[7,8,9]])\n",
    "print(\"Array: \\n\", array)\n",
    "\n",
    "# Transposing Array\n",
    "print(\"Transpose of array :\\n\", array.T) \n",
    "\n",
    "# Changing Array Shape\n",
    "a = array.ravel() # Flatten the array\n",
    "array2 = a.reshape(3,3) # Reshape, but don’t change data\n",
    "\n",
    "# Stacking Arrays\n",
    "array3 = np.array([[1,2],[3,4]])\n",
    "array4 = np.array([[-1,-2],[-3,-4]])\n",
    "\n",
    "# Veritical Combining\n",
    "array5 = np.vstack((array3,array4))\n",
    "print(\"Veritical Combining: \\n\",array5)\n",
    "# Horizontal Combining\n",
    "array6 = np.hstack((array3,array4))\n",
    "print(\"Horizontal Combining: \\n\",array6)\n",
    "\n",
    "# Different Combining Technique\n",
    "np.concatenate((array3,array4),axis=0) # Veritical Combining\n",
    "np.concatenate((array3,array4),axis=1) # Horizontal Combining"
   ]
  },
  {
   "cell_type": "markdown",
   "metadata": {},
   "source": [
    "# Convert and Copy Array"
   ]
  },
  {
   "cell_type": "code",
   "execution_count": 51,
   "metadata": {},
   "outputs": [],
   "source": [
    "# Convert\n",
    "\n",
    "liste = [1,2,3,4]   # list\n",
    "\n",
    "array = np.array(liste) # np.array\n",
    "\n",
    "liste2 = list(array)\n",
    "\n",
    "a = np.array([1,2,3])\n",
    "\n",
    "# Copy Array: These operations are incorrect. Because when you change the contents of one array, the other arrays will be affected.\n",
    "b = a \n",
    "b[0] = 5\n",
    "c = a \n",
    "\n",
    "# Copy Array: These operations are correct. \n",
    "d =  np.array([1,2,3])\n",
    "e = d.copy()\n",
    "f = d.copy()"
   ]
  },
  {
   "cell_type": "code",
   "execution_count": null,
   "metadata": {},
   "outputs": [],
   "source": []
  }
 ],
 "metadata": {
  "kernelspec": {
   "display_name": "Python 3",
   "language": "python",
   "name": "python3"
  },
  "language_info": {
   "codemirror_mode": {
    "name": "ipython",
    "version": 3
   },
   "file_extension": ".py",
   "mimetype": "text/x-python",
   "name": "python",
   "nbconvert_exporter": "python",
   "pygments_lexer": "ipython3",
   "version": "3.7.3"
  }
 },
 "nbformat": 4,
 "nbformat_minor": 2
}
